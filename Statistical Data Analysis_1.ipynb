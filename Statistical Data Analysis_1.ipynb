{
 "cells": [
  {
   "cell_type": "markdown",
   "metadata": {},
   "source": [
    "Opening Data"
   ]
  },
  {
   "cell_type": "markdown",
   "metadata": {},
   "source": [
    "This script describes customer's behaviour by analysing users subscription to the two plans of megaline. It also shows the revenues generated via each plan."
   ]
  },
  {
   "cell_type": "markdown",
   "metadata": {},
   "source": [
    "## Step 1. Open the data file and study the general information"
   ]
  },
  {
   "cell_type": "code",
   "execution_count": 8,
   "metadata": {},
   "outputs": [],
   "source": [
    "# Import the files\n",
    "import pandas as pd\n",
    "import numpy as np\n",
    "import matplotlib.pyplot as plt\n",
    "from scipy import stats as st\n",
    "\n",
    "from numpy import mean\n",
    "from numpy import std\n",
    "\n",
    "megaline_calls = pd.read_csv('C:/Users/hvm/Documents/Practicum/Statistical Data Analysis/Stat_Project/megaline_calls.csv')\n",
    "megaline_internet = pd.read_csv('C:/Users/hvm/Documents/Practicum/Statistical Data Analysis/Stat_Project/megaline_internet.csv')\n",
    "megaline_messages = pd.read_csv('C:/Users/hvm/Documents/Practicum/Statistical Data Analysis/Stat_Project/megaline_messages.csv')\n",
    "megaline_plans = pd.read_csv('C:/Users/hvm/Documents/Practicum/Statistical Data Analysis/Stat_Project/megaline_plans.csv')\n",
    "megaline_users = pd.read_csv('C:/Users/hvm/Documents/Practicum/Statistical Data Analysis/Stat_Project/megaline_users.csv')"
   ]
  },
  {
   "cell_type": "markdown",
   "metadata": {},
   "source": [
    "## Step 2. Prepare the data\n"
   ]
  },
  {
   "cell_type": "code",
   "execution_count": 9,
   "metadata": {},
   "outputs": [],
   "source": [
    "megaline_calls['user_id'] = megaline_calls['user_id'].astype('int32')\n",
    "megaline_calls['call_date'] = pd.to_datetime(megaline_calls['call_date'])\n",
    "megaline_calls['duration'] = megaline_calls['duration'].astype('float32')\n",
    "\n",
    "megaline_internet['user_id'] = megaline_internet['user_id'].astype('int32')\n",
    "megaline_internet['session_date'] = pd.to_datetime(megaline_internet['session_date'])\n",
    "\n",
    "megaline_messages['user_id'] = megaline_messages['user_id'].astype('int32')\n",
    "megaline_messages['message_date'] = pd.to_datetime(megaline_messages['message_date'])"
   ]
  },
  {
   "cell_type": "markdown",
   "metadata": {},
   "source": [
    "- call_date, session_date, message_date changed to date_time\n",
    "- duration and user_ids sizes reduced to int32"
   ]
  },
  {
   "cell_type": "code",
   "execution_count": 10,
   "metadata": {},
   "outputs": [],
   "source": [
    "\n",
    "#cREATE MONTHS COLUMNS\n",
    "megaline_calls['call_date_month'] = megaline_calls['call_date'].dt.month\n",
    "\n",
    "megaline_internet['session_date_month'] = megaline_internet['session_date'].dt.month\n",
    "\n",
    "megaline_messages['message_date_month'] = megaline_messages['message_date'].dt.month"
   ]
  },
  {
   "cell_type": "code",
   "execution_count": 11,
   "metadata": {},
   "outputs": [
    {
     "data": {
      "text/plain": [
       "466"
      ]
     },
     "execution_count": 11,
     "metadata": {},
     "output_type": "execute_result"
    }
   ],
   "source": [
    "megaline_users['churn_date'].isnull().sum()"
   ]
  },
  {
   "cell_type": "code",
   "execution_count": 12,
   "metadata": {},
   "outputs": [
    {
     "data": {
      "image/png": "[encoded data removed]",
      "text/plain": [
       "<Figure size 432x288 with 1 Axes>"
      ]
     },
     "metadata": {
      "needs_background": "light"
     },
     "output_type": "display_data"
    },
    {
     "data": {
      "text/plain": [
       "id                 26834\n",
       "user_id            26834\n",
       "call_date          26834\n",
       "duration           26834\n",
       "call_date_month    26834\n",
       "dtype: int64"
      ]
     },
     "execution_count": 12,
     "metadata": {},
     "output_type": "execute_result"
    },
    {
     "data": {
      "image/png": "[encoded data removed]",
      "text/plain": [
       "<Figure size 432x288 with 1 Axes>"
      ]
     },
     "metadata": {
      "needs_background": "light"
     },
     "output_type": "display_data"
    }
   ],
   "source": [
    "megaline_calls['duration'].hist().set(\n",
    "    xlabel=\"duration_minutes\", ylabel=\"Number of Calls\", title = \"Number of Calls per Minute\")\n",
    "plt.show()\n",
    "megaline_calls.boxplot(column ='duration')\n",
    "\n",
    "megaline_calls.query('duration == 0').count()"
   ]
  },
  {
   "cell_type": "markdown",
   "metadata": {},
   "source": [
    "The histgram shows that there is abnormally high about of 0 calls which isn't realistic.\n",
    "The boxplot shows that beyond 25 minutes, there are some outliers till abve 35 minutes. But most calls are between zero and 10 minutes."
   ]
  },
  {
   "cell_type": "code",
   "execution_count": 13,
   "metadata": {},
   "outputs": [
    {
     "name": "stdout",
     "output_type": "stream",
     "text": [
      "<class 'pandas.core.frame.DataFrame'>\n",
      "RangeIndex: 137735 entries, 0 to 137734\n",
      "Data columns (total 5 columns):\n",
      " #   Column           Non-Null Count   Dtype         \n",
      "---  ------           --------------   -----         \n",
      " 0   id               137735 non-null  object        \n",
      " 1   user_id          137735 non-null  int32         \n",
      " 2   call_date        137735 non-null  datetime64[ns]\n",
      " 3   duration         137735 non-null  float32       \n",
      " 4   call_date_month  137735 non-null  int64         \n",
      "dtypes: datetime64[ns](1), float32(1), int32(1), int64(1), object(1)\n",
      "memory usage: 4.2+ MB\n",
      "None\n",
      "<class 'pandas.core.frame.DataFrame'>\n",
      "Int64Index: 110901 entries, 0 to 137734\n",
      "Data columns (total 5 columns):\n",
      " #   Column           Non-Null Count   Dtype         \n",
      "---  ------           --------------   -----         \n",
      " 0   id               110901 non-null  object        \n",
      " 1   user_id          110901 non-null  int32         \n",
      " 2   call_date        110901 non-null  datetime64[ns]\n",
      " 3   duration         110901 non-null  float32       \n",
      " 4   call_date_month  110901 non-null  int64         \n",
      "dtypes: datetime64[ns](1), float32(1), int32(1), int64(1), object(1)\n",
      "memory usage: 4.2+ MB\n",
      "None\n"
     ]
    }
   ],
   "source": [
    "#filter out 0 minutes calls. \n",
    "print(megaline_calls.info())\n",
    "megaline_calls = megaline_calls.query('duration > 0')\n",
    "print(megaline_calls.info())"
   ]
  },
  {
   "cell_type": "markdown",
   "metadata": {},
   "source": [
    "26834 rows removed because they have 0 minute call which isn't realistic. they are most likely missed calls."
   ]
  },
  {
   "cell_type": "code",
   "execution_count": 14,
   "metadata": {},
   "outputs": [],
   "source": [
    "megaline_calls_pivot = megaline_calls.pivot_table(\n",
    "    index = 'call_date_month', values = ['duration'], aggfunc =['sum','count'])\n",
    "megaline_calls_pivot = megaline_calls_pivot.reset_index()\n",
    "megaline_calls_pivot.columns = ['call_date_month','sum_duration','count_calls']"
   ]
  },
  {
   "cell_type": "markdown",
   "metadata": {},
   "source": [
    "Converted the pivot table to dataframe and named the columns properly"
   ]
  },
  {
   "cell_type": "code",
   "execution_count": 15,
   "metadata": {},
   "outputs": [
    {
     "data": {
      "image/png": "[encoded data removed]",
      "text/plain": [
       "<Figure size 432x288 with 1 Axes>"
      ]
     },
     "metadata": {
      "needs_background": "light"
     },
     "output_type": "display_data"
    },
    {
     "data": {
      "text/plain": [
       "[Text(0.5, 0, 'count_calls'),\n",
       " Text(0, 0.5, 'call_date_month'),\n",
       " Text(0.5, 1.0, 'Number of calls in each month')]"
      ]
     },
     "execution_count": 15,
     "metadata": {},
     "output_type": "execute_result"
    },
    {
     "data": {
      "image/png": "[encoded data removed]",
      "text/plain": [
       "<Figure size 432x288 with 1 Axes>"
      ]
     },
     "metadata": {
      "needs_background": "light"
     },
     "output_type": "display_data"
    }
   ],
   "source": [
    "megaline_calls_pivot.plot.barh(\n",
    "    x = 'call_date_month', y ='sum_duration').set(\n",
    "    xlabel=\"sum_duration\", ylabel=\"call_date_month\", title = \"Sum of call duration in each month\")\n",
    "plt.show()\n",
    "megaline_calls_pivot.plot.barh(\n",
    "    x = 'call_date_month', y ='count_calls').set(\n",
    "    xlabel=\"count_calls\", ylabel=\"call_date_month\", title = \"Number of calls in each month\")"
   ]
  },
  {
   "cell_type": "markdown",
   "metadata": {},
   "source": [
    "There is a steady increase in number of calls and sum of the call duration from January to December."
   ]
  },
  {
   "cell_type": "code",
   "execution_count": 16,
   "metadata": {},
   "outputs": [
    {
     "data": {
      "image/png": "[encoded data removed]",
      "text/plain": [
       "<Figure size 432x288 with 2 Axes>"
      ]
     },
     "metadata": {
      "needs_background": "light"
     },
     "output_type": "display_data"
    }
   ],
   "source": [
    "# create figure and axis objects with subplots()\n",
    "fig,ax = plt.subplots()\n",
    "# make a plot\n",
    "ax.plot(megaline_calls_pivot.call_date_month, megaline_calls_pivot.sum_duration, color=\"red\", marker=\"o\")\n",
    "# set x-axis label\n",
    "ax.set_xlabel(\"call_date_month\")\n",
    "# set y-axis label\n",
    "ax.set_ylabel(\"sum_duration_minutes\",color=\"red\",fontsize=14)\n",
    "\n",
    "\n",
    "# twin object for two different y-axis on the sample plot\n",
    "ax2=ax.twinx()\n",
    "# make a plot with different y-axis using second axis object\n",
    "ax2.plot(megaline_calls_pivot.call_date_month, megaline_calls_pivot.count_calls,color=\"blue\",marker=\"o\")\n",
    "ax2.set_ylabel(\"Number of calls\",color=\"blue\",fontsize=14)\n",
    "ax.set_title('Comparison of sum_call_duration and Number_of_calls')\n",
    "plt.show()"
   ]
  },
  {
   "cell_type": "code",
   "execution_count": 17,
   "metadata": {},
   "outputs": [
    {
     "data": {
      "text/html": [
       "<div>\n",
       "<style scoped>\n",
       "    .dataframe tbody tr th:only-of-type {\n",
       "        vertical-align: middle;\n",
       "    }\n",
       "\n",
       "    .dataframe tbody tr th {\n",
       "        vertical-align: top;\n",
       "    }\n",
       "\n",
       "    .dataframe thead th {\n",
       "        text-align: right;\n",
       "    }\n",
       "</style>\n",
       "<table border=\"1\" class=\"dataframe\">\n",
       "  <thead>\n",
       "    <tr style=\"text-align: right;\">\n",
       "      <th></th>\n",
       "      <th>id</th>\n",
       "      <th>user_id</th>\n",
       "      <th>message_date</th>\n",
       "      <th>message_date_month</th>\n",
       "    </tr>\n",
       "  </thead>\n",
       "  <tbody>\n",
       "    <tr>\n",
       "      <th>0</th>\n",
       "      <td>1000_125</td>\n",
       "      <td>1000</td>\n",
       "      <td>2018-12-27</td>\n",
       "      <td>12</td>\n",
       "    </tr>\n",
       "    <tr>\n",
       "      <th>1</th>\n",
       "      <td>1000_160</td>\n",
       "      <td>1000</td>\n",
       "      <td>2018-12-31</td>\n",
       "      <td>12</td>\n",
       "    </tr>\n",
       "    <tr>\n",
       "      <th>2</th>\n",
       "      <td>1000_223</td>\n",
       "      <td>1000</td>\n",
       "      <td>2018-12-31</td>\n",
       "      <td>12</td>\n",
       "    </tr>\n",
       "    <tr>\n",
       "      <th>3</th>\n",
       "      <td>1000_251</td>\n",
       "      <td>1000</td>\n",
       "      <td>2018-12-27</td>\n",
       "      <td>12</td>\n",
       "    </tr>\n",
       "    <tr>\n",
       "      <th>4</th>\n",
       "      <td>1000_255</td>\n",
       "      <td>1000</td>\n",
       "      <td>2018-12-26</td>\n",
       "      <td>12</td>\n",
       "    </tr>\n",
       "  </tbody>\n",
       "</table>\n",
       "</div>"
      ],
      "text/plain": [
       "         id  user_id message_date  message_date_month\n",
       "0  1000_125     1000   2018-12-27                  12\n",
       "1  1000_160     1000   2018-12-31                  12\n",
       "2  1000_223     1000   2018-12-31                  12\n",
       "3  1000_251     1000   2018-12-27                  12\n",
       "4  1000_255     1000   2018-12-26                  12"
      ]
     },
     "execution_count": 17,
     "metadata": {},
     "output_type": "execute_result"
    }
   ],
   "source": [
    "megaline_messages.head()"
   ]
  },
  {
   "cell_type": "markdown",
   "metadata": {},
   "source": [
    "Near perfect correlation is seen for sum_call_duration and Number_of_calls from January through December."
   ]
  },
  {
   "cell_type": "code",
   "execution_count": 18,
   "metadata": {},
   "outputs": [
    {
     "data": {
      "image/png": "[encoded data removed]",
      "text/plain": [
       "<Figure size 432x288 with 1 Axes>"
      ]
     },
     "metadata": {
      "needs_background": "light"
     },
     "output_type": "display_data"
    }
   ],
   "source": [
    "megaline_messages_pivot = megaline_messages.pivot_table(index = 'message_date_month', values = ['id'], aggfunc =['count'])\n",
    "megaline_messages_pivot = megaline_messages_pivot.reset_index()\n",
    "megaline_messages_pivot.columns = ['message_date_month','count_messages']\n",
    "megaline_messages_pivot.plot.barh(\n",
    "    x = 'message_date_month', y ='count_messages').set(\n",
    "    xlabel=\"count_messages\", ylabel=\"message_date_month\", title = \"Number of messages in each month\")\n",
    "plt.show()"
   ]
  },
  {
   "cell_type": "markdown",
   "metadata": {},
   "source": [
    "Increase of messages from January to december"
   ]
  },
  {
   "cell_type": "code",
   "execution_count": 19,
   "metadata": {},
   "outputs": [
    {
     "data": {
      "text/plain": [
       "[Text(0.5, 0, 'session_date_month'),\n",
       " Text(0, 0.5, 'sum_mb_used'),\n",
       " Text(0.5, 1.0, 'Sum of mb used in each month')]"
      ]
     },
     "execution_count": 19,
     "metadata": {},
     "output_type": "execute_result"
    },
    {
     "data": {
      "image/png": "[encoded data removed]",
      "text/plain": [
       "<Figure size 432x288 with 1 Axes>"
      ]
     },
     "metadata": {
      "needs_background": "light"
     },
     "output_type": "display_data"
    }
   ],
   "source": [
    "megaline_internet_pivot = megaline_internet.pivot_table(index = 'session_date_month', values = 'mb_used', aggfunc ='sum')\n",
    "megaline_internet_pivot = megaline_internet_pivot.reset_index()\n",
    "megaline_internet_pivot.columns = ['session_date_month','sum_mb_used']\n",
    "megaline_internet_pivot.plot.bar(\n",
    "    x = 'session_date_month', y ='sum_mb_used').set(\n",
    "    xlabel=\"session_date_month\", ylabel=\"sum_mb_used\", title = \"Sum of mb used in each month\")"
   ]
  },
  {
   "cell_type": "markdown",
   "metadata": {},
   "source": [
    "Steady increase in mb consumption from January to December"
   ]
  },
  {
   "cell_type": "markdown",
   "metadata": {},
   "source": [
    "The monthly revenue from each user (subtract the free package limit from the total number of calls, text messages, and data; multiply the result by the calling plan value; add the monthly charge depending on the calling plan)"
   ]
  },
  {
   "cell_type": "code",
   "execution_count": 20,
   "metadata": {},
   "outputs": [
    {
     "data": {
      "text/html": [
       "<div>\n",
       "<style scoped>\n",
       "    .dataframe tbody tr th:only-of-type {\n",
       "        vertical-align: middle;\n",
       "    }\n",
       "\n",
       "    .dataframe tbody tr th {\n",
       "        vertical-align: top;\n",
       "    }\n",
       "\n",
       "    .dataframe thead th {\n",
       "        text-align: right;\n",
       "    }\n",
       "</style>\n",
       "<table border=\"1\" class=\"dataframe\">\n",
       "  <thead>\n",
       "    <tr style=\"text-align: right;\">\n",
       "      <th></th>\n",
       "      <th></th>\n",
       "      <th>duration</th>\n",
       "      <th>id</th>\n",
       "    </tr>\n",
       "    <tr>\n",
       "      <th>user_id</th>\n",
       "      <th>call_date_month</th>\n",
       "      <th></th>\n",
       "      <th></th>\n",
       "    </tr>\n",
       "  </thead>\n",
       "  <tbody>\n",
       "    <tr>\n",
       "      <th>1000</th>\n",
       "      <th>12</th>\n",
       "      <td>116.830002</td>\n",
       "      <td>16</td>\n",
       "    </tr>\n",
       "    <tr>\n",
       "      <th rowspan=\"4\" valign=\"top\">1001</th>\n",
       "      <th>8</th>\n",
       "      <td>171.139999</td>\n",
       "      <td>22</td>\n",
       "    </tr>\n",
       "    <tr>\n",
       "      <th>9</th>\n",
       "      <td>297.690002</td>\n",
       "      <td>38</td>\n",
       "    </tr>\n",
       "    <tr>\n",
       "      <th>10</th>\n",
       "      <td>374.109985</td>\n",
       "      <td>47</td>\n",
       "    </tr>\n",
       "    <tr>\n",
       "      <th>11</th>\n",
       "      <td>404.589996</td>\n",
       "      <td>49</td>\n",
       "    </tr>\n",
       "  </tbody>\n",
       "</table>\n",
       "</div>"
      ],
      "text/plain": [
       "                           duration  id\n",
       "user_id call_date_month                \n",
       "1000    12               116.830002  16\n",
       "1001    8                171.139999  22\n",
       "        9                297.690002  38\n",
       "        10               374.109985  47\n",
       "        11               404.589996  49"
      ]
     },
     "execution_count": 20,
     "metadata": {},
     "output_type": "execute_result"
    }
   ],
   "source": [
    "megaline_calls_grouped = megaline_calls.pivot_table(\n",
    "    index = ['user_id','call_date_month'], values =['duration', 'id'] , aggfunc={'duration' : 'sum', 'id' : 'count'})\n",
    "\n",
    "megaline_calls_grouped.head()"
   ]
  },
  {
   "cell_type": "markdown",
   "metadata": {},
   "source": [
    "Grouping by months and converting to datatframe"
   ]
  },
  {
   "cell_type": "code",
   "execution_count": 21,
   "metadata": {},
   "outputs": [],
   "source": [
    "megaline_calls_grouped = megaline_calls.groupby(\n",
    "    by = ['user_id','call_date_month'])['duration'].sum().to_frame(name = 'duration').reset_index()\n",
    "\n",
    "megaline_messages_grouped = megaline_messages.groupby(\n",
    "    by = ['user_id','message_date_month'])['id'].count().to_frame(name = 'count_messages').reset_index()\n",
    "\n",
    "megaline_internet_grouped = megaline_internet.groupby(\n",
    "    by = ['user_id','session_date_month'])['mb_used'].sum().to_frame(name = 'sum_mb_used').reset_index()"
   ]
  },
  {
   "cell_type": "code",
   "execution_count": 22,
   "metadata": {},
   "outputs": [
    {
     "data": {
      "text/html": [
       "<div>\n",
       "<style scoped>\n",
       "    .dataframe tbody tr th:only-of-type {\n",
       "        vertical-align: middle;\n",
       "    }\n",
       "\n",
       "    .dataframe tbody tr th {\n",
       "        vertical-align: top;\n",
       "    }\n",
       "\n",
       "    .dataframe thead th {\n",
       "        text-align: right;\n",
       "    }\n",
       "</style>\n",
       "<table border=\"1\" class=\"dataframe\">\n",
       "  <thead>\n",
       "    <tr style=\"text-align: right;\">\n",
       "      <th></th>\n",
       "      <th>user_id</th>\n",
       "      <th>call_date_month</th>\n",
       "      <th>duration</th>\n",
       "      <th>session_date_month</th>\n",
       "      <th>sum_mb_used</th>\n",
       "      <th>message_date_month</th>\n",
       "      <th>count_messages</th>\n",
       "    </tr>\n",
       "  </thead>\n",
       "  <tbody>\n",
       "    <tr>\n",
       "      <th>0</th>\n",
       "      <td>1000</td>\n",
       "      <td>12.0</td>\n",
       "      <td>116.830002</td>\n",
       "      <td>12.0</td>\n",
       "      <td>1901.47</td>\n",
       "      <td>12.0</td>\n",
       "      <td>11.0</td>\n",
       "    </tr>\n",
       "    <tr>\n",
       "      <th>1</th>\n",
       "      <td>1001</td>\n",
       "      <td>8.0</td>\n",
       "      <td>171.139999</td>\n",
       "      <td>8.0</td>\n",
       "      <td>6919.15</td>\n",
       "      <td>8.0</td>\n",
       "      <td>30.0</td>\n",
       "    </tr>\n",
       "    <tr>\n",
       "      <th>2</th>\n",
       "      <td>1001</td>\n",
       "      <td>9.0</td>\n",
       "      <td>297.690002</td>\n",
       "      <td>9.0</td>\n",
       "      <td>13314.82</td>\n",
       "      <td>9.0</td>\n",
       "      <td>44.0</td>\n",
       "    </tr>\n",
       "    <tr>\n",
       "      <th>3</th>\n",
       "      <td>1001</td>\n",
       "      <td>10.0</td>\n",
       "      <td>374.109985</td>\n",
       "      <td>10.0</td>\n",
       "      <td>22330.49</td>\n",
       "      <td>10.0</td>\n",
       "      <td>53.0</td>\n",
       "    </tr>\n",
       "    <tr>\n",
       "      <th>4</th>\n",
       "      <td>1001</td>\n",
       "      <td>11.0</td>\n",
       "      <td>404.589996</td>\n",
       "      <td>11.0</td>\n",
       "      <td>18504.30</td>\n",
       "      <td>11.0</td>\n",
       "      <td>36.0</td>\n",
       "    </tr>\n",
       "  </tbody>\n",
       "</table>\n",
       "</div>"
      ],
      "text/plain": [
       "   user_id  call_date_month    duration  session_date_month  sum_mb_used  \\\n",
       "0     1000             12.0  116.830002                12.0      1901.47   \n",
       "1     1001              8.0  171.139999                 8.0      6919.15   \n",
       "2     1001              9.0  297.690002                 9.0     13314.82   \n",
       "3     1001             10.0  374.109985                10.0     22330.49   \n",
       "4     1001             11.0  404.589996                11.0     18504.30   \n",
       "\n",
       "   message_date_month  count_messages  \n",
       "0                12.0            11.0  \n",
       "1                 8.0            30.0  \n",
       "2                 9.0            44.0  \n",
       "3                10.0            53.0  \n",
       "4                11.0            36.0  "
      ]
     },
     "execution_count": 22,
     "metadata": {},
     "output_type": "execute_result"
    }
   ],
   "source": [
    "megaline_grouped_all = pd.merge((pd.merge(\n",
    "    megaline_calls_grouped, megaline_internet_grouped, \n",
    "    how='outer', left_on=['user_id','call_date_month'], \n",
    "    right_on = ['user_id','session_date_month'])), \n",
    "    megaline_messages_grouped, how='outer', \n",
    "    left_on=['user_id','call_date_month'], \n",
    "    right_on = ['user_id','message_date_month'])\n",
    "\n",
    "megaline_grouped_all.head()\n"
   ]
  },
  {
   "cell_type": "markdown",
   "metadata": {},
   "source": [
    "To get the plan whether surf or ultimate, merge grouped tables with megaline_users table using user_id"
   ]
  },
  {
   "cell_type": "code",
   "execution_count": 23,
   "metadata": {},
   "outputs": [],
   "source": [
    "megaline_grouped_all = megaline_grouped_all.merge(megaline_users[['user_id','plan']], on ='user_id')\n",
    "\n",
    "megaline_grouped_all= megaline_grouped_all[['user_id','plan','call_date_month','duration','sum_mb_used','count_messages']]\n",
    "\n",
    "megaline_grouped_all.columns = ['user_id','plan','month','duration','sum_mb_used','count_messages']\n"
   ]
  },
  {
   "cell_type": "code",
   "execution_count": 24,
   "metadata": {},
   "outputs": [],
   "source": [
    "surf_message_limit = megaline_plans.query(\"plan_name == 'surf'\")['messages_included']\n",
    "surf_mb_limit = megaline_plans.query(\"plan_name == 'surf'\")['mb_per_month_included']/1024\n",
    "surf_call_limit = megaline_plans.query(\"plan_name == 'surf'\")['minutes_included']\n",
    "\n",
    "surf_usd_per_message = megaline_plans.query(\"plan_name == 'surf'\")['usd_per_message']\n",
    "surf_usd_per_gb = megaline_plans.query(\"plan_name == 'surf'\")['usd_per_gb']\n",
    "surf_usd_per_minute = megaline_plans.query(\"plan_name == 'surf'\")['usd_per_minute']\n",
    "\n",
    "ultimate_message_limit = megaline_plans.query(\"plan_name == 'ultimate'\")['messages_included']\n",
    "ultimate_mb_limit = megaline_plans.query(\"plan_name == 'ultimate'\")['mb_per_month_included']/1024\n",
    "ultimate_call_limit = megaline_plans.query(\"plan_name == 'ultimate'\")['usd_per_minute']\n",
    "\n",
    "ultimate_usd_per_message = megaline_plans.query(\"plan_name == 'ultimate'\")['usd_per_message']\n",
    "ultimate_usd_per_minute = megaline_plans.query(\"plan_name == 'ultimate'\")['usd_per_minute']\n",
    "ultimate_usd_per_gb = megaline_plans.query(\"plan_name == 'ultimate'\")['usd_per_gb']\n",
    "\n",
    " \n",
    "surf_monthly_pay = megaline_plans.query(\"plan_name == 'surf'\")['usd_monthly_pay']\n",
    "ultimate_monthly_pay = megaline_plans.query(\"plan_name == 'ultimate'\")['usd_monthly_pay']\n"
   ]
  },
  {
   "cell_type": "code",
   "execution_count": 25,
   "metadata": {},
   "outputs": [
    {
     "name": "stdout",
     "output_type": "stream",
     "text": [
      "   user_id      plan  month    duration  sum_mb_used  count_messages  \\\n",
      "0     1000  ultimate   12.0  116.830002      1901.47            11.0   \n",
      "1     1001      surf    8.0  171.139999      6919.15            30.0   \n",
      "2     1001      surf    9.0  297.690002     13314.82            44.0   \n",
      "3     1001      surf   10.0  374.109985     22330.49            53.0   \n",
      "4     1001      surf   11.0  404.589996     18504.30            36.0   \n",
      "\n",
      "   call_cost  \n",
      "0    71.1682  \n",
      "1    20.0000  \n",
      "2    20.0000  \n",
      "3    20.0000  \n",
      "4    20.0000  \n"
     ]
    }
   ],
   "source": [
    "def call_cost(row):\n",
    "    if row['plan'] == 'surf' and row['duration'] > surf_call_limit.iloc[0]:\n",
    "        return (row['duration'] - surf_call_limit.iloc[0]) * surf_usd_per_minute.iloc[0] + surf_monthly_pay.iloc[0]\n",
    "    elif row['plan'] == 'ultimate' and row['duration'] > ultimate_call_limit.iloc[0]:\n",
    "        return (row['duration'] - \n",
    "            ultimate_call_limit.iloc[0]) * ultimate_usd_per_minute.iloc[0] + ultimate_monthly_pay.iloc[0]\n",
    "    elif row['plan'] == 'surf' and row['duration'] <= surf_call_limit.iloc[0]:\n",
    "        return surf_monthly_pay.iloc[0]\n",
    "    elif row['plan'] == 'ultimate' and row['duration'] <= ultimate_call_limit.iloc[0]:\n",
    "        return ultimate_monthly_pay.iloc[0]\n",
    "    else:\n",
    "        return 0\n",
    "    \n",
    "megaline_grouped_all['call_cost'] = megaline_grouped_all[['plan','duration']].apply(lambda row : call_cost(row), axis=1)\n",
    "\n",
    "print(megaline_grouped_all.head(5))"
   ]
  },
  {
   "cell_type": "code",
   "execution_count": 26,
   "metadata": {},
   "outputs": [
    {
     "name": "stdout",
     "output_type": "stream",
     "text": [
      "   user_id      plan  month    duration  sum_mb_used  count_messages  \\\n",
      "0     1000  ultimate   12.0  116.830002      1901.47            11.0   \n",
      "1     1001      surf    8.0  171.139999      6919.15            30.0   \n",
      "2     1001      surf    9.0  297.690002     13314.82            44.0   \n",
      "3     1001      surf   10.0  374.109985     22330.49            53.0   \n",
      "4     1001      surf   11.0  404.589996     18504.30            36.0   \n",
      "\n",
      "   call_cost  message_cost  \n",
      "0    71.1682         70.00  \n",
      "1    20.0000         20.00  \n",
      "2    20.0000         20.00  \n",
      "3    20.0000         20.09  \n",
      "4    20.0000         20.00  \n"
     ]
    }
   ],
   "source": [
    "def message_cost(row):\n",
    "    if row['plan'] == 'surf' and row['count_messages'] > surf_message_limit.iloc[0]:\n",
    "        return (row['count_messages'] - \n",
    "                surf_message_limit.iloc[0]) * surf_usd_per_message.iloc[0] + surf_monthly_pay.iloc[0]\n",
    "    elif row['plan'] == 'ultimate' and row['count_messages'] > ultimate_message_limit.iloc[0]:\n",
    "        return (row['count_messages'] - \n",
    "                ultimate_message_limit.iloc[0]) * ultimate_usd_per_message.iloc[0] + ultimate_monthly_pay.iloc[0]\n",
    "    elif row['plan'] == 'surf' and row['count_messages'] <= surf_message_limit.iloc[0]:\n",
    "        return surf_monthly_pay.iloc[0]\n",
    "    elif row['plan'] == 'ultimate' and row['count_messages'] <= ultimate_message_limit.iloc[0]:\n",
    "        return ultimate_monthly_pay.iloc[0]\n",
    "    else:\n",
    "        return 0\n",
    "    \n",
    "megaline_grouped_all['message_cost'] = megaline_grouped_all[['plan','count_messages']].apply(\n",
    "    lambda row : message_cost(row), axis=1)\n",
    "print(megaline_grouped_all.head(5))"
   ]
  },
  {
   "cell_type": "code",
   "execution_count": 27,
   "metadata": {},
   "outputs": [
    {
     "name": "stdout",
     "output_type": "stream",
     "text": [
      "   user_id      plan  month    duration  sum_mb_used  count_messages  \\\n",
      "0     1000  ultimate   12.0  116.830002      1901.47            11.0   \n",
      "1     1001      surf    8.0  171.139999      6919.15            30.0   \n",
      "2     1001      surf    9.0  297.690002     13314.82            44.0   \n",
      "3     1001      surf   10.0  374.109985     22330.49            53.0   \n",
      "4     1001      surf   11.0  404.589996     18504.30            36.0   \n",
      "\n",
      "   call_cost  message_cost  internet_cost  \n",
      "0    71.1682         70.00           84.0  \n",
      "1    20.0000         20.00           90.0  \n",
      "2    20.0000         20.00          150.0  \n",
      "3    20.0000         20.09          240.0  \n",
      "4    20.0000         20.00          210.0  \n"
     ]
    }
   ],
   "source": [
    "def internet_cost(row):\n",
    "    if row['plan'] == 'surf' and row['sum_mb_used'] > surf_mb_limit.iloc[0]:\n",
    "        return np.ceil((row['sum_mb_used'] - surf_mb_limit.iloc[0])/1024) * surf_usd_per_gb.iloc[0] + surf_monthly_pay.iloc[0]\n",
    "    elif row['plan'] == 'ultimate' and row['sum_mb_used'] > ultimate_mb_limit.iloc[0]:\n",
    "        return np.ceil((row['sum_mb_used'] - \n",
    "                ultimate_mb_limit.iloc[0])/1024) * ultimate_usd_per_gb.iloc[0] + ultimate_monthly_pay.iloc[0]\n",
    "    elif row['plan'] == 'surf' and row['sum_mb_used'] <= surf_mb_limit.iloc[0]:\n",
    "        return surf_monthly_pay.iloc[0]\n",
    "    elif row['plan'] == 'ultimate' and row['sum_mb_used'] <= ultimate_mb_limit.iloc[0]:\n",
    "        return ultimate_monthly_pay.iloc[0]\n",
    "    else:\n",
    "        return 0\n",
    "    \n",
    "megaline_grouped_all['internet_cost'] = megaline_grouped_all[['plan','sum_mb_used']].apply(\n",
    "    lambda row : internet_cost(row), axis=1)\n",
    "\n",
    "print(megaline_grouped_all.head(5))\n"
   ]
  },
  {
   "cell_type": "code",
   "execution_count": 28,
   "metadata": {},
   "outputs": [],
   "source": [
    "megaline_grouped_all['total_revenue'] = megaline_grouped_all[\n",
    "    'call_cost'] + megaline_grouped_all['message_cost'] + megaline_grouped_all['internet_cost']"
   ]
  },
  {
   "cell_type": "markdown",
   "metadata": {},
   "source": [
    "-after you calculated month in each dataframe and made grouping - join dataframes (calls, messages, internet and tariff) into the huge one, you'll get smthg like client/month/tariff/calls/mesages/internet\n",
    "\n",
    "-change your fucntions to calculate revenue for each cost (revenue = cost_qty * cost_price) and apply them to get client/month/tariff/calls/mesages/internet/calls_cost/mesages_cost/internet_cost/monthly_charge/total_per_month\n",
    "\n",
    "-for both plans now you can make plots with amount of each cost by months, revenue from cost, totals and whatever you like\n",
    "\n",
    "try to determine hypothesis from the task (see in brief) and check them\n",
    "- write a conclusion about the data you explored and test completed\n",
    "- submit the project =)"
   ]
  },
  {
   "cell_type": "markdown",
   "metadata": {},
   "source": [
    "## Step 3. Analyze the data"
   ]
  },
  {
   "cell_type": "code",
   "execution_count": 29,
   "metadata": {},
   "outputs": [
    {
     "data": {
      "text/html": [
       "<div>\n",
       "<style scoped>\n",
       "    .dataframe tbody tr th:only-of-type {\n",
       "        vertical-align: middle;\n",
       "    }\n",
       "\n",
       "    .dataframe tbody tr th {\n",
       "        vertical-align: top;\n",
       "    }\n",
       "\n",
       "    .dataframe thead th {\n",
       "        text-align: right;\n",
       "    }\n",
       "</style>\n",
       "<table border=\"1\" class=\"dataframe\">\n",
       "  <thead>\n",
       "    <tr style=\"text-align: right;\">\n",
       "      <th></th>\n",
       "      <th>user_id</th>\n",
       "      <th>plan</th>\n",
       "      <th>month</th>\n",
       "      <th>duration</th>\n",
       "      <th>sum_mb_used</th>\n",
       "      <th>count_messages</th>\n",
       "      <th>call_cost</th>\n",
       "      <th>message_cost</th>\n",
       "      <th>internet_cost</th>\n",
       "      <th>total_revenue</th>\n",
       "    </tr>\n",
       "  </thead>\n",
       "  <tbody>\n",
       "    <tr>\n",
       "      <th>0</th>\n",
       "      <td>1000</td>\n",
       "      <td>ultimate</td>\n",
       "      <td>12.0</td>\n",
       "      <td>116.830002</td>\n",
       "      <td>1901.47</td>\n",
       "      <td>11.0</td>\n",
       "      <td>71.1682</td>\n",
       "      <td>70.00</td>\n",
       "      <td>84.0</td>\n",
       "      <td>225.1682</td>\n",
       "    </tr>\n",
       "    <tr>\n",
       "      <th>1</th>\n",
       "      <td>1001</td>\n",
       "      <td>surf</td>\n",
       "      <td>8.0</td>\n",
       "      <td>171.139999</td>\n",
       "      <td>6919.15</td>\n",
       "      <td>30.0</td>\n",
       "      <td>20.0000</td>\n",
       "      <td>20.00</td>\n",
       "      <td>90.0</td>\n",
       "      <td>130.0000</td>\n",
       "    </tr>\n",
       "    <tr>\n",
       "      <th>2</th>\n",
       "      <td>1001</td>\n",
       "      <td>surf</td>\n",
       "      <td>9.0</td>\n",
       "      <td>297.690002</td>\n",
       "      <td>13314.82</td>\n",
       "      <td>44.0</td>\n",
       "      <td>20.0000</td>\n",
       "      <td>20.00</td>\n",
       "      <td>150.0</td>\n",
       "      <td>190.0000</td>\n",
       "    </tr>\n",
       "    <tr>\n",
       "      <th>3</th>\n",
       "      <td>1001</td>\n",
       "      <td>surf</td>\n",
       "      <td>10.0</td>\n",
       "      <td>374.109985</td>\n",
       "      <td>22330.49</td>\n",
       "      <td>53.0</td>\n",
       "      <td>20.0000</td>\n",
       "      <td>20.09</td>\n",
       "      <td>240.0</td>\n",
       "      <td>280.0900</td>\n",
       "    </tr>\n",
       "    <tr>\n",
       "      <th>4</th>\n",
       "      <td>1001</td>\n",
       "      <td>surf</td>\n",
       "      <td>11.0</td>\n",
       "      <td>404.589996</td>\n",
       "      <td>18504.30</td>\n",
       "      <td>36.0</td>\n",
       "      <td>20.0000</td>\n",
       "      <td>20.00</td>\n",
       "      <td>210.0</td>\n",
       "      <td>250.0000</td>\n",
       "    </tr>\n",
       "  </tbody>\n",
       "</table>\n",
       "</div>"
      ],
      "text/plain": [
       "   user_id      plan  month    duration  sum_mb_used  count_messages  \\\n",
       "0     1000  ultimate   12.0  116.830002      1901.47            11.0   \n",
       "1     1001      surf    8.0  171.139999      6919.15            30.0   \n",
       "2     1001      surf    9.0  297.690002     13314.82            44.0   \n",
       "3     1001      surf   10.0  374.109985     22330.49            53.0   \n",
       "4     1001      surf   11.0  404.589996     18504.30            36.0   \n",
       "\n",
       "   call_cost  message_cost  internet_cost  total_revenue  \n",
       "0    71.1682         70.00           84.0       225.1682  \n",
       "1    20.0000         20.00           90.0       130.0000  \n",
       "2    20.0000         20.00          150.0       190.0000  \n",
       "3    20.0000         20.09          240.0       280.0900  \n",
       "4    20.0000         20.00          210.0       250.0000  "
      ]
     },
     "execution_count": 29,
     "metadata": {},
     "output_type": "execute_result"
    }
   ],
   "source": [
    "megaline_grouped_all.head()"
   ]
  },
  {
   "cell_type": "code",
   "execution_count": 30,
   "metadata": {},
   "outputs": [],
   "source": [
    "megaline_average = megaline_grouped_all.pivot_table(\n",
    "    index = ['user_id','plan'], values = \n",
    "    ['duration','sum_mb_used','count_messages', 'call_cost','message_cost','internet_cost','total_revenue'], aggfunc = \n",
    "    'mean')"
   ]
  },
  {
   "cell_type": "code",
   "execution_count": 31,
   "metadata": {},
   "outputs": [
    {
     "data": {
      "image/png": "[encoded data removed]",
      "text/plain": [
       "<Figure size 720x432 with 1 Axes>"
      ]
     },
     "metadata": {
      "needs_background": "light"
     },
     "output_type": "display_data"
    },
    {
     "data": {
      "text/html": [
       "<div>\n",
       "<style scoped>\n",
       "    .dataframe tbody tr th:only-of-type {\n",
       "        vertical-align: middle;\n",
       "    }\n",
       "\n",
       "    .dataframe tbody tr th {\n",
       "        vertical-align: top;\n",
       "    }\n",
       "\n",
       "    .dataframe thead th {\n",
       "        text-align: right;\n",
       "    }\n",
       "</style>\n",
       "<table border=\"1\" class=\"dataframe\">\n",
       "  <thead>\n",
       "    <tr style=\"text-align: right;\">\n",
       "      <th></th>\n",
       "      <th>messages_included</th>\n",
       "      <th>mb_per_month_included</th>\n",
       "      <th>minutes_included</th>\n",
       "      <th>usd_monthly_pay</th>\n",
       "      <th>usd_per_gb</th>\n",
       "      <th>usd_per_message</th>\n",
       "      <th>usd_per_minute</th>\n",
       "      <th>plan_name</th>\n",
       "    </tr>\n",
       "  </thead>\n",
       "  <tbody>\n",
       "    <tr>\n",
       "      <th>0</th>\n",
       "      <td>50</td>\n",
       "      <td>15360</td>\n",
       "      <td>500</td>\n",
       "      <td>20</td>\n",
       "      <td>10</td>\n",
       "      <td>0.03</td>\n",
       "      <td>0.03</td>\n",
       "      <td>surf</td>\n",
       "    </tr>\n",
       "    <tr>\n",
       "      <th>1</th>\n",
       "      <td>1000</td>\n",
       "      <td>30720</td>\n",
       "      <td>3000</td>\n",
       "      <td>70</td>\n",
       "      <td>7</td>\n",
       "      <td>0.01</td>\n",
       "      <td>0.01</td>\n",
       "      <td>ultimate</td>\n",
       "    </tr>\n",
       "  </tbody>\n",
       "</table>\n",
       "</div>"
      ],
      "text/plain": [
       "   messages_included  mb_per_month_included  minutes_included  \\\n",
       "0                 50                  15360               500   \n",
       "1               1000                  30720              3000   \n",
       "\n",
       "   usd_monthly_pay  usd_per_gb  usd_per_message  usd_per_minute plan_name  \n",
       "0               20          10             0.03            0.03      surf  \n",
       "1               70           7             0.01            0.01  ultimate  "
      ]
     },
     "execution_count": 31,
     "metadata": {},
     "output_type": "execute_result"
    },
    {
     "data": {
      "image/png": "[encoded data removed]",
      "text/plain": [
       "<Figure size 720x432 with 1 Axes>"
      ]
     },
     "metadata": {
      "needs_background": "light"
     },
     "output_type": "display_data"
    }
   ],
   "source": [
    "megaline_grouped_all.query('plan == \"surf\"')['duration'].plot.hist(label = 'surf')\n",
    "megaline_grouped_all.query('plan == \"ultimate\"')['duration'].plot.hist(label='ultimate',\n",
    "    figsize=(10,6)).set(xlabel= \"Sum Call duration\",  title = \"Monthly call duration on both plans\")\n",
    "plt.legend()\n",
    "plt.show()\n",
    "\n",
    "megaline_average.query('plan == \"surf\"')['duration'].plot.hist(label = 'surf')\n",
    "megaline_average.query('plan == \"ultimate\"')['duration'].plot.hist(\n",
    "    label = 'ultimate', figsize=(10,6)).set(xlabel=\"Average call duration\",  title = \"Average call duration on both plans\")\n",
    "plt.legend()\n",
    "megaline_plans.head()"
   ]
  },
  {
   "cell_type": "markdown",
   "metadata": {},
   "source": [
    "Most surf users spend an average between 200 and 500 mins with a peak between 200 and 400 mins. Relatively fewer users under the surf plan spend beyond 600 mins.\n",
    "Ultimate users average between 200 and 500 mins similarly but most are between 400 and 500 mins"
   ]
  },
  {
   "cell_type": "code",
   "execution_count": 32,
   "metadata": {},
   "outputs": [
    {
     "data": {
      "image/png": "[encoded data removed]",
      "text/plain": [
       "<Figure size 720x432 with 1 Axes>"
      ]
     },
     "metadata": {
      "needs_background": "light"
     },
     "output_type": "display_data"
    },
    {
     "data": {
      "text/plain": [
       "<matplotlib.legend.Legend at 0x1f51e0a2cf8>"
      ]
     },
     "execution_count": 32,
     "metadata": {},
     "output_type": "execute_result"
    },
    {
     "data": {
      "image/png": "[encoded data removed]",
      "text/plain": [
       "<Figure size 720x432 with 1 Axes>"
      ]
     },
     "metadata": {
      "needs_background": "light"
     },
     "output_type": "display_data"
    }
   ],
   "source": [
    "megaline_grouped_all.query('plan == \"surf\"')['count_messages'].plot.hist(label = 'surf')\n",
    "megaline_grouped_all.query('plan == \"ultimate\"')['count_messages'].plot.hist(label='ultimate',\n",
    "    figsize=(10,6)).set(xlabel= \"Sum count_messages\",  title = \"Monthly count_messages on both plans\")\n",
    "plt.legend()\n",
    "plt.show()\n",
    "\n",
    "megaline_average.query('plan == \"surf\"')['count_messages'].plot.hist(label = 'surf')\n",
    "megaline_average.query('plan == \"ultimate\"')['count_messages'].plot.hist(\n",
    "    label = 'ultimate', figsize=(10,6)).set(xlabel=\"Average count_messages\",  title = \"Average count_messages on both plans\")\n",
    "plt.legend()"
   ]
  },
  {
   "cell_type": "markdown",
   "metadata": {},
   "source": [
    "Surf users send messages 160 but mostly betwen 20 and 30 messages.\n",
    "\n",
    "Ultimate users send mostly between 0 and 80 messages. \n",
    "\n",
    "Surf plan will generate more revenue because most of the users exceed the montly 50 messges limit."
   ]
  },
  {
   "cell_type": "code",
   "execution_count": 33,
   "metadata": {},
   "outputs": [
    {
     "data": {
      "image/png": "[encoded data removed]",
      "text/plain": [
       "<Figure size 720x432 with 1 Axes>"
      ]
     },
     "metadata": {
      "needs_background": "light"
     },
     "output_type": "display_data"
    },
    {
     "data": {
      "text/plain": [
       "<matplotlib.legend.Legend at 0x1f52638ee80>"
      ]
     },
     "execution_count": 33,
     "metadata": {},
     "output_type": "execute_result"
    },
    {
     "data": {
      "image/png": "[encoded data removed]",
      "text/plain": [
       "<Figure size 720x432 with 1 Axes>"
      ]
     },
     "metadata": {
      "needs_background": "light"
     },
     "output_type": "display_data"
    }
   ],
   "source": [
    "megaline_grouped_all.query('plan == \"surf\"')['sum_mb_used'].plot.hist(label = 'surf')\n",
    "megaline_grouped_all.query('plan == \"ultimate\"')['sum_mb_used'].plot.hist(label='ultimate',\n",
    "    figsize=(10,6)).set(xlabel= \"Sum sum_mb_used\",  title = \"Monthly sum_mb_used on both plans\")\n",
    "plt.legend()\n",
    "plt.show()\n",
    "\n",
    "megaline_average.query('plan == \"surf\"')['sum_mb_used'].plot.hist(label = 'surf')\n",
    "megaline_average.query('plan == \"ultimate\"')['sum_mb_used'].plot.hist(\n",
    "    label = 'ultimate', figsize=(10,6)).set(xlabel=\"Average sum_mb_used\",  title = \"Average sum_mb_used on both plans\")\n",
    "plt.legend()"
   ]
  },
  {
   "cell_type": "markdown",
   "metadata": {},
   "source": [
    "Both surf and ultimate plan have the most users between 10000 and 30000 mb monthly. However, there are more surf users than ultimate users. \n",
    "\n",
    "There are a few outliers using as much as 50000 and 70000 mb monthly under the surf plan but ultimate users don't go beyond the 50000 mb limit. \n",
    "\n",
    "This is very realistic because ultimate users have double the mb of surf users on a monthly plan. Hence, they need no further subscription. "
   ]
  },
  {
   "cell_type": "code",
   "execution_count": 34,
   "metadata": {},
   "outputs": [
    {
     "data": {
      "image/png": "[encoded data removed]",
      "text/plain": [
       "<Figure size 720x432 with 1 Axes>"
      ]
     },
     "metadata": {
      "needs_background": "light"
     },
     "output_type": "display_data"
    },
    {
     "data": {
      "text/html": [
       "<div>\n",
       "<style scoped>\n",
       "    .dataframe tbody tr th:only-of-type {\n",
       "        vertical-align: middle;\n",
       "    }\n",
       "\n",
       "    .dataframe tbody tr th {\n",
       "        vertical-align: top;\n",
       "    }\n",
       "\n",
       "    .dataframe thead th {\n",
       "        text-align: right;\n",
       "    }\n",
       "</style>\n",
       "<table border=\"1\" class=\"dataframe\">\n",
       "  <thead>\n",
       "    <tr style=\"text-align: right;\">\n",
       "      <th></th>\n",
       "      <th>messages_included</th>\n",
       "      <th>mb_per_month_included</th>\n",
       "      <th>minutes_included</th>\n",
       "      <th>usd_monthly_pay</th>\n",
       "      <th>usd_per_gb</th>\n",
       "      <th>usd_per_message</th>\n",
       "      <th>usd_per_minute</th>\n",
       "      <th>plan_name</th>\n",
       "    </tr>\n",
       "  </thead>\n",
       "  <tbody>\n",
       "    <tr>\n",
       "      <th>0</th>\n",
       "      <td>50</td>\n",
       "      <td>15360</td>\n",
       "      <td>500</td>\n",
       "      <td>20</td>\n",
       "      <td>10</td>\n",
       "      <td>0.03</td>\n",
       "      <td>0.03</td>\n",
       "      <td>surf</td>\n",
       "    </tr>\n",
       "    <tr>\n",
       "      <th>1</th>\n",
       "      <td>1000</td>\n",
       "      <td>30720</td>\n",
       "      <td>3000</td>\n",
       "      <td>70</td>\n",
       "      <td>7</td>\n",
       "      <td>0.01</td>\n",
       "      <td>0.01</td>\n",
       "      <td>ultimate</td>\n",
       "    </tr>\n",
       "  </tbody>\n",
       "</table>\n",
       "</div>"
      ],
      "text/plain": [
       "   messages_included  mb_per_month_included  minutes_included  \\\n",
       "0                 50                  15360               500   \n",
       "1               1000                  30720              3000   \n",
       "\n",
       "   usd_monthly_pay  usd_per_gb  usd_per_message  usd_per_minute plan_name  \n",
       "0               20          10             0.03            0.03      surf  \n",
       "1               70           7             0.01            0.01  ultimate  "
      ]
     },
     "execution_count": 34,
     "metadata": {},
     "output_type": "execute_result"
    },
    {
     "data": {
      "image/png": "[encoded data removed]",
      "text/plain": [
       "<Figure size 720x432 with 1 Axes>"
      ]
     },
     "metadata": {
      "needs_background": "light"
     },
     "output_type": "display_data"
    }
   ],
   "source": [
    "megaline_grouped_all.query('plan == \"surf\"')['total_revenue'].plot.hist(label = 'surf')\n",
    "megaline_grouped_all.query('plan == \"ultimate\"')['total_revenue'].plot.hist(label='ultimate',\n",
    "    figsize=(10,6)).set(xlabel= \"Sum Call total_revenue\",  title = \"Monthly total_revenue on both plans\")\n",
    "plt.legend()\n",
    "plt.show()\n",
    "\n",
    "megaline_average.query('plan == \"surf\"')['total_revenue'].plot.hist(label = 'surf')\n",
    "megaline_average.query('plan == \"ultimate\"')['total_revenue'].plot.hist(\n",
    "    label = 'ultimate', figsize=(10,6)).set(\n",
    "    xlabel=\"Average call total_revenue\",  title = \"Average total_revenue on both plans\")\n",
    "plt.legend()\n",
    "megaline_plans.head()"
   ]
  },
  {
   "cell_type": "markdown",
   "metadata": {},
   "source": [
    "the average revenue on the ultimate plan is higher than that of surf users .\n",
    "\n",
    "Both ultimate and surf users use less than 500 minutes a month."
   ]
  },
  {
   "cell_type": "markdown",
   "metadata": {},
   "source": [
    "Research/Alternative Hypothesis\n",
    "\n",
    "1. The average revenue from users of Ultimate and Surf calling plans differs.\n",
    "2. The average revenue from users in NY-NJ area is different from that of the users from other regions."
   ]
  },
  {
   "cell_type": "markdown",
   "metadata": {},
   "source": [
    "1. Alternative Hypothesis --> $H_{A}$ : Average revenue for ultimate and surf plan differ. $μ_{ultimate}$ != $μ_{surf}$ \n",
    "\n",
    "\n",
    "   Null Hypothesis --> $H_{0}$: Average revenue for ultimate and surf plan are equal. $μ_{ultimate}$ = $μ_{surf}$\n",
    "   \n",
    "   \n",
    "2. Alternative Hypothesis --> $H_{A}$ : Average revenue for NY-NJ and other regions differ. $μ_{NY-NJ}$ != $μ_{other}$ \n",
    "\n",
    "\n",
    "   Null Hypothesis --> $H_{0}$: Average revenue for NY-NJ and other regions are equal. $μ_{NY-NJ}$ = $μ_{other}$\n",
    "    "
   ]
  },
  {
   "cell_type": "code",
   "execution_count": 35,
   "metadata": {},
   "outputs": [
    {
     "name": "stdout",
     "output_type": "stream",
     "text": [
      "ultimate: mean=311.070 stdv=52.236\n",
      "surf: mean=214.259 stdv=62.138\n"
     ]
    }
   ],
   "source": [
    "ultimate_rev = megaline_average.query('plan == \"ultimate\"')['total_revenue']\n",
    "surf_rev = megaline_average.query('plan == \"surf\"')['total_revenue']\n",
    "\n",
    "# summarize\n",
    "print('ultimate: mean=%.3f stdv=%.3f' % (mean(ultimate_rev), std(ultimate_rev)))\n",
    "print('surf: mean=%.3f stdv=%.3f' % (mean(surf_rev), std(surf_rev)))"
   ]
  },
  {
   "cell_type": "markdown",
   "metadata": {},
   "source": [
    "## Test the hypotheses"
   ]
  },
  {
   "cell_type": "code",
   "execution_count": 36,
   "metadata": {},
   "outputs": [
    {
     "name": "stdout",
     "output_type": "stream",
     "text": [
      "p-value:  1.1862179586235408e-50\n",
      "We reject the null hypothesis. Therefore, average revenue for ultimate and surf plan differ.\n"
     ]
    }
   ],
   "source": [
    "alpha = 0.05\n",
    "\n",
    "results = st.ttest_ind(\n",
    "        ultimate_rev, \n",
    "        surf_rev)\n",
    "\n",
    "print('p-value: ', results.pvalue)\n",
    "\n",
    "if (results.pvalue <= alpha):\n",
    "        print(\"We reject the null hypothesis. Therefore, average revenue for ultimate and surf plan differ.\")\n",
    "else:\n",
    "        print(\"We can't reject the null hypothesis. Therefore, average revenue for ultimate and surf plan are equal.\") "
   ]
  },
  {
   "cell_type": "code",
   "execution_count": 37,
   "metadata": {},
   "outputs": [
    {
     "name": "stdout",
     "output_type": "stream",
     "text": [
      "p-value:  0.26238454462994937\n",
      "We can't reject the null hypothesis. Therefore, average revenue for NY-NJ and other regions are equal.\n"
     ]
    }
   ],
   "source": [
    "megaline_average_users = megaline_average.merge(megaline_users[['user_id','city']], on ='user_id')\n",
    "megaline_average_users_NY_NJ = megaline_average_users[megaline_average_users['city'].str.contains(\"NJ\")]\n",
    "megaline_average_users_Others = megaline_average_users[~megaline_average_users['city'].str.contains(\"NJ\")]\n",
    "\n",
    "alpha = 0.05\n",
    "\n",
    "results = st.ttest_ind(\n",
    "        megaline_average_users_NY_NJ[\"total_revenue\"], \n",
    "        megaline_average_users_Others[\"total_revenue\"])\n",
    "\n",
    "print('p-value: ', results.pvalue)\n",
    "\n",
    "if (results.pvalue <= alpha):\n",
    "        print(\"We reject the null hypothesis. Therefore, average revenue for NY-NJ and other regions differ.\")\n",
    "else:\n",
    "        print(\"We can't reject the null hypothesis. Therefore, average revenue for NY-NJ and other regions are equal.\")"
   ]
  },
  {
   "cell_type": "markdown",
   "metadata": {},
   "source": [
    "## Conclusion"
   ]
  },
  {
   "cell_type": "markdown",
   "metadata": {},
   "source": [
    "Overall, there is a consistent increase in call duration, messages sent and mb consumption from January to december in both plans. But further dive into the data reveals some peculiar characteristics of the users in both plans.\n",
    "\n",
    "Average revenue generated by ultimate users shows to  be higher than surf users eve though they show similar pattern of mb consumption and call duration. On messages however, surf users generate more revenue because they exceed the monthly limit more often than ultimate users."
   ]
  },
  {
   "cell_type": "markdown",
   "metadata": {},
   "source": []
  },
  {
   "cell_type": "code",
   "execution_count": null,
   "metadata": {},
   "outputs": [],
   "source": []
  }
 ],
 "metadata": {
  "kernelspec": {
   "display_name": "Python 3",
   "language": "python",
   "name": "python3"
  },
  "language_info": {
   "codemirror_mode": {
    "name": "ipython",
    "version": 3
   },
   "file_extension": ".py",
   "mimetype": "text/x-python",
   "name": "python",
   "nbconvert_exporter": "python",
   "pygments_lexer": "ipython3",
   "version": "3.7.1"
  },
  "toc": {
   "base_numbering": 1,
   "nav_menu": {},
   "number_sections": true,
   "sideBar": true,
   "skip_h1_title": false,
   "title_cell": "Table of Contents",
   "title_sidebar": "Contents",
   "toc_cell": false,
   "toc_position": {},
   "toc_section_display": true,
   "toc_window_display": false
  }
 },
 "nbformat": 4,
 "nbformat_minor": 2
}
